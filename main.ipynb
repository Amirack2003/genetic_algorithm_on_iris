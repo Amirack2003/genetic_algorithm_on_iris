{
 "cells": [
  {
   "cell_type": "markdown",
   "source": [
    "Import and read data and fill data features"
   ],
   "metadata": {
    "collapsed": false
   }
  },
  {
   "cell_type": "code",
   "execution_count": 8,
   "metadata": {
    "collapsed": true,
    "ExecuteTime": {
     "end_time": "2024-01-26T16:55:09.716874700Z",
     "start_time": "2024-01-26T16:55:09.589790100Z"
    }
   },
   "outputs": [
    {
     "data": {
      "text/plain": "   sepal_length  sepal_width  petal_length  petal_width        class\n0           5.1          3.5           1.4          0.2  Iris-setosa\n1           4.9          3.0           1.4          0.2  Iris-setosa\n2           4.7          3.2           1.3          0.2  Iris-setosa\n3           4.6          3.1           1.5          0.2  Iris-setosa\n4           5.0          3.6           1.4          0.2  Iris-setosa",
      "text/html": "<div>\n<style scoped>\n    .dataframe tbody tr th:only-of-type {\n        vertical-align: middle;\n    }\n\n    .dataframe tbody tr th {\n        vertical-align: top;\n    }\n\n    .dataframe thead th {\n        text-align: right;\n    }\n</style>\n<table border=\"1\" class=\"dataframe\">\n  <thead>\n    <tr style=\"text-align: right;\">\n      <th></th>\n      <th>sepal_length</th>\n      <th>sepal_width</th>\n      <th>petal_length</th>\n      <th>petal_width</th>\n      <th>class</th>\n    </tr>\n  </thead>\n  <tbody>\n    <tr>\n      <th>0</th>\n      <td>5.1</td>\n      <td>3.5</td>\n      <td>1.4</td>\n      <td>0.2</td>\n      <td>Iris-setosa</td>\n    </tr>\n    <tr>\n      <th>1</th>\n      <td>4.9</td>\n      <td>3.0</td>\n      <td>1.4</td>\n      <td>0.2</td>\n      <td>Iris-setosa</td>\n    </tr>\n    <tr>\n      <th>2</th>\n      <td>4.7</td>\n      <td>3.2</td>\n      <td>1.3</td>\n      <td>0.2</td>\n      <td>Iris-setosa</td>\n    </tr>\n    <tr>\n      <th>3</th>\n      <td>4.6</td>\n      <td>3.1</td>\n      <td>1.5</td>\n      <td>0.2</td>\n      <td>Iris-setosa</td>\n    </tr>\n    <tr>\n      <th>4</th>\n      <td>5.0</td>\n      <td>3.6</td>\n      <td>1.4</td>\n      <td>0.2</td>\n      <td>Iris-setosa</td>\n    </tr>\n  </tbody>\n</table>\n</div>"
     },
     "execution_count": 8,
     "metadata": {},
     "output_type": "execute_result"
    }
   ],
   "source": [
    "from sklearn.metrics import accuracy_score\n",
    "from sklearn.decomposition import PCA\n",
    "import pandas as pd\n",
    "import numpy as np\n",
    "import random\n",
    "import matplotlib.pyplot as plt\n",
    "\n",
    "import itertools\n",
    "\n",
    "from scipy.spatial.distance import cdist\n",
    "import warnings\n",
    "\n",
    "warnings.simplefilter(action='ignore', category=FutureWarning)\n",
    "\n",
    "data = pd.read_csv('iris.data', header=None)\n",
    "data.columns = ['sepal_length', 'sepal_width', 'petal_length', 'petal_width', 'class']\n",
    "\n",
    "data_features = data.drop('class', axis=1)\n",
    "data_list = data_features.values.tolist()\n",
    "number_of_cluster = 3\n",
    "\n",
    "data.head()"
   ]
  },
  {
   "cell_type": "markdown",
   "source": [
    "euc;idean metric distance for every two point - fitness function"
   ],
   "metadata": {
    "collapsed": false
   }
  },
  {
   "cell_type": "code",
   "execution_count": 9,
   "outputs": [],
   "source": [
    "def euclidean_distance(vectors):\n",
    "    vectors_array = np.array(vectors)\n",
    "\n",
    "    distances = cdist(vectors_array, vectors_array, metric='euclidean')\n",
    "\n",
    "    return distances\n",
    "\n",
    "\n",
    "def fitness(genotype, num_clusters=3):\n",
    "    cluster_distances = []\n",
    "    global data_features\n",
    "    cluster_points = [[], [], []]\n",
    "    for i in range(150):\n",
    "        cluster_points[genotype[i]].append(data_list[i])\n",
    "\n",
    "    for cluster in cluster_points:\n",
    "        if len(cluster) > 1:\n",
    "            pairwise_distances = euclidean_distance(cluster)\n",
    "            cluster_distances.append(np.sum(pairwise_distances))\n",
    "\n",
    "    total_fitness = np.sum(cluster_distances) if len(cluster_distances) > 0 else np.inf\n",
    "    return total_fitness"
   ],
   "metadata": {
    "collapsed": false,
    "ExecuteTime": {
     "end_time": "2024-01-26T16:55:09.716874700Z",
     "start_time": "2024-01-26T16:55:09.621074200Z"
    }
   }
  },
  {
   "cell_type": "markdown",
   "source": [
    "set hyper parameters"
   ],
   "metadata": {
    "collapsed": false
   }
  },
  {
   "cell_type": "code",
   "execution_count": 10,
   "outputs": [],
   "source": [
    "population_size = 1000\n",
    "num_generations = 600\n",
    "mutation_rate = 0.25\n",
    "crossover_rate = 0.35\n",
    "\n",
    "population = []"
   ],
   "metadata": {
    "collapsed": false,
    "ExecuteTime": {
     "end_time": "2024-01-26T16:55:09.716874700Z",
     "start_time": "2024-01-26T16:55:09.636707900Z"
    }
   }
  },
  {
   "cell_type": "markdown",
   "source": [
    "cross over function and mutation function"
   ],
   "metadata": {
    "collapsed": false
   }
  },
  {
   "cell_type": "code",
   "execution_count": 11,
   "outputs": [],
   "source": [
    "def crossover(parent1, parent2):\n",
    "    crossover_point = random.randint(1, len(parent1) - 2)\n",
    "\n",
    "    offspring1 = parent1[:crossover_point] + parent2[crossover_point:]\n",
    "    offspring2 = parent2[:crossover_point] + parent1[crossover_point:]\n",
    "\n",
    "    for i in range(len(offspring1)):\n",
    "        if random.random() < crossover_rate:\n",
    "            offspring1[i] = parent1[i]\n",
    "        if random.random() > 1 - crossover_rate:\n",
    "            offspring2[i] = parent2[i]\n",
    "\n",
    "    return offspring1, offspring2\n",
    "\n",
    "\n",
    "def mutation(genotype):\n",
    "    mutated_genotype = genotype.copy()\n",
    "    for i in range(len(mutated_genotype) - 1):\n",
    "        if random.random() < mutation_rate:\n",
    "            mutated_genotype[i] = random.randint(0, 2)\n",
    "    return mutated_genotype"
   ],
   "metadata": {
    "collapsed": false,
    "ExecuteTime": {
     "end_time": "2024-01-26T16:55:09.716874700Z",
     "start_time": "2024-01-26T16:55:09.652334900Z"
    }
   }
  },
  {
   "cell_type": "markdown",
   "source": [
    "generate first population randomly function"
   ],
   "metadata": {
    "collapsed": false
   }
  },
  {
   "cell_type": "code",
   "execution_count": 12,
   "outputs": [],
   "source": [
    "def create_initial_population(initial_population_size, num_clusters=number_of_cluster, dataset_size=150):\n",
    "    global population\n",
    "\n",
    "    for _ in range(initial_population_size):\n",
    "        cluster_assignments = [random.randint(0, num_clusters - 1) for _ in range(dataset_size)]\n",
    "        individual = cluster_assignments + [0]\n",
    "        fitness_value = fitness(cluster_assignments)\n",
    "        individual[-1] = fitness_value\n",
    "        population.append(individual)"
   ],
   "metadata": {
    "collapsed": false,
    "ExecuteTime": {
     "end_time": "2024-01-26T16:55:09.716874700Z",
     "start_time": "2024-01-26T16:55:09.667959600Z"
    }
   }
  },
  {
   "cell_type": "markdown",
   "source": [
    "generate next generation"
   ],
   "metadata": {
    "collapsed": false
   }
  },
  {
   "cell_type": "code",
   "execution_count": 13,
   "outputs": [],
   "source": [
    "def generate_next_generation(current_population, selection_factor=0.25):\n",
    "    current_population.sort(key=lambda x: x[-1])\n",
    "\n",
    "    num_best_individuals = int(len(current_population) * selection_factor)\n",
    "    best_individuals = current_population[:num_best_individuals]\n",
    "\n",
    "    num_new_individuals = len(current_population) - num_best_individuals\n",
    "    new_individuals = []\n",
    "\n",
    "    while len(new_individuals) < num_new_individuals:\n",
    "        parent1, parent2 = random.sample(best_individuals, 2)\n",
    "\n",
    "        offspring1, offspring2 = crossover(parent1[:-1], parent2[:-1])\n",
    "\n",
    "        mutated_offspring1 = mutation(offspring1)\n",
    "        mutated_offspring1.append(fitness(offspring1))\n",
    "        new_individuals.append(mutated_offspring1)\n",
    "\n",
    "        mutated_offspring2 = mutation(offspring2)\n",
    "        mutated_offspring2.append(fitness(offspring2))\n",
    "        new_individuals.append(mutated_offspring2)\n",
    "\n",
    "    next_generation = best_individuals + new_individuals\n",
    "    next_generation.sort(key=lambda x: x[-1])\n",
    "    return next_generation[:len(current_population)]\n"
   ],
   "metadata": {
    "collapsed": false,
    "ExecuteTime": {
     "end_time": "2024-01-26T16:55:09.730916800Z",
     "start_time": "2024-01-26T16:55:09.683585900Z"
    }
   }
  },
  {
   "cell_type": "markdown",
   "source": [
    "iterate on generation function"
   ],
   "metadata": {
    "collapsed": false
   }
  },
  {
   "cell_type": "code",
   "execution_count": 14,
   "outputs": [],
   "source": [
    "def run_genetic_algorithm(max_iterations = num_generations):\n",
    "    global population\n",
    "    create_initial_population(population_size)\n",
    "\n",
    "    best_fitness = float('inf')\n",
    "    best_genotype = None\n",
    "    iteration = 0\n",
    "\n",
    "    while iteration < max_iterations:\n",
    "        iteration += 1\n",
    "\n",
    "        population = generate_next_generation(population)\n",
    "        best_individual = min(population, key=lambda x: x[-1])\n",
    "        if best_individual[-1] < best_fitness:\n",
    "            best_fitness = best_individual[-1]\n",
    "            best_genotype = best_individual[:-1]\n",
    "\n",
    "    return best_genotype, best_fitness, iteration"
   ],
   "metadata": {
    "collapsed": false,
    "ExecuteTime": {
     "end_time": "2024-01-26T16:55:09.730916800Z",
     "start_time": "2024-01-26T16:55:09.699268200Z"
    }
   }
  },
  {
   "cell_type": "markdown",
   "source": [
    "result"
   ],
   "metadata": {
    "collapsed": false
   }
  },
  {
   "cell_type": "code",
   "execution_count": 15,
   "outputs": [
    {
     "name": "stdout",
     "output_type": "stream",
     "text": [
      "iteration number :  600 fitness :  12788.9065019616\n"
     ]
    }
   ],
   "source": [
    "best_genotype, best_fitness, iteration = run_genetic_algorithm()\n",
    "print(\"iteration number : \", iteration , \"fitness : \", best_fitness)"
   ],
   "metadata": {
    "collapsed": false,
    "ExecuteTime": {
     "end_time": "2024-01-26T16:56:26.138548300Z",
     "start_time": "2024-01-26T16:55:09.716874700Z"
    }
   }
  },
  {
   "cell_type": "markdown",
   "source": [
    "insert labels"
   ],
   "metadata": {
    "collapsed": false
   }
  },
  {
   "cell_type": "code",
   "execution_count": 16,
   "outputs": [],
   "source": [
    "def try_all_label_assignments(cluster_assignments, data):\n",
    "    best_accuracy = 0\n",
    "    best_labels = None\n",
    "\n",
    "    # Generate all possible label assignments\n",
    "    labels_permutations = list(itertools.permutations(np.unique(data['class']), len(np.unique(data['class']))))\n",
    "\n",
    "    for labels in labels_permutations:\n",
    "        assigned_labels = [labels[cluster] for cluster in cluster_assignments]\n",
    "        accuracy = accuracy_score(data['class'], assigned_labels)\n",
    "\n",
    "        if accuracy > best_accuracy:\n",
    "            best_accuracy = accuracy\n",
    "            best_labels = assigned_labels\n",
    "\n",
    "    return best_labels, best_accuracy"
   ],
   "metadata": {
    "collapsed": false,
    "ExecuteTime": {
     "end_time": "2024-01-26T16:56:26.185425200Z",
     "start_time": "2024-01-26T16:56:26.138548300Z"
    }
   }
  },
  {
   "cell_type": "markdown",
   "source": [
    "new result"
   ],
   "metadata": {
    "collapsed": false
   }
  },
  {
   "cell_type": "code",
   "execution_count": 17,
   "outputs": [
    {
     "name": "stdout",
     "output_type": "stream",
     "text": [
      "0.62\n"
     ]
    }
   ],
   "source": [
    "best_labels, best_accuracy = try_all_label_assignments(best_genotype, data)\n",
    "print(best_accuracy)"
   ],
   "metadata": {
    "collapsed": false,
    "ExecuteTime": {
     "end_time": "2024-01-26T16:56:26.185425200Z",
     "start_time": "2024-01-26T16:56:26.154054500Z"
    }
   }
  },
  {
   "cell_type": "markdown",
   "source": [
    "plot results"
   ],
   "metadata": {
    "collapsed": false
   }
  },
  {
   "cell_type": "code",
   "execution_count": 18,
   "outputs": [
    {
     "data": {
      "text/plain": "<Figure size 1200x400 with 2 Axes>",
      "image/png": "[encoded data removed]"
     },
     "metadata": {},
     "output_type": "display_data"
    },
    {
     "name": "stdout",
     "output_type": "stream",
     "text": [
      "Generic Clustering Accuracy: 0.62\n"
     ]
    }
   ],
   "source": [
    "pca = PCA(n_components=2)\n",
    "data_pca = pca.fit_transform(data.iloc[:, :-1])\n",
    "\n",
    "data_wih_numeric_label = data.copy()\n",
    "mapping = {'Iris-setosa': 0,  'Iris-versicolor': 1, 'Iris-virginica' : 2}\n",
    "data_wih_numeric_label['class'] = data_wih_numeric_label['class'].replace(mapping)\n",
    "original_labels = data_wih_numeric_label['class']\n",
    "\n",
    "generic_labels = best_genotype\n",
    "\n",
    "plt.figure(figsize=(12, 4))\n",
    "\n",
    "plt.subplot(1, 3, 1)\n",
    "plt.scatter(data_pca[:, 0], data_pca[:, 1], c=original_labels, cmap='viridis')\n",
    "plt.title('Original Labels')\n",
    "plt.xlabel('PC1')\n",
    "plt.ylabel('PC2')\n",
    "\n",
    "plt.subplot(1, 3, 2)\n",
    "plt.scatter(data_pca[:, 0], data_pca[:, 1], c=generic_labels, cmap='viridis')\n",
    "plt.title('Generic Clustering')\n",
    "plt.xlabel('PC1')\n",
    "plt.ylabel('PC2')\n",
    "\n",
    "plt.tight_layout()\n",
    "plt.show()\n",
    "\n",
    "_, generic_accuracy = try_all_label_assignments(generic_labels, data)\n",
    "\n",
    "print(\"Generic Clustering Accuracy:\", generic_accuracy)"
   ],
   "metadata": {
    "collapsed": false,
    "ExecuteTime": {
     "end_time": "2024-01-26T16:56:26.547182800Z",
     "start_time": "2024-01-26T16:56:26.185425200Z"
    }
   }
  }
 ],
 "metadata": {
  "kernelspec": {
   "display_name": "Python 3",
   "language": "python",
   "name": "python3"
  },
  "language_info": {
   "codemirror_mode": {
    "name": "ipython",
    "version": 2
   },
   "file_extension": ".py",
   "mimetype": "text/x-python",
   "name": "python",
   "nbconvert_exporter": "python",
   "pygments_lexer": "ipython2",
   "version": "2.7.6"
  }
 },
 "nbformat": 4,
 "nbformat_minor": 0
}
